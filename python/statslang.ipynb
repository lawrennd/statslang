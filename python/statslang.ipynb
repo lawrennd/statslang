{
 "metadata": {
  "celltoolbar": "Slideshow",
  "name": "",
  "signature": "sha256:9604c1d64117d8ff79d9e081ec3d5f855f15a48f2f225d64d4a0c7c93632b409"
 },
 "nbformat": 3,
 "nbformat_minor": 0,
 "worksheets": [
  {
   "cells": [
    {
     "cell_type": "markdown",
     "metadata": {
      "slideshow": {
       "slide_type": "slide"
      }
     },
     "source": [
      "<p class=\"talk-title\">Statistical Computing Languages</p>\n",
      "\n",
      "<p class=\"talk-subtitle\">Python</p>\n",
      "\n",
      "<p class=\"talk-subtitle\"><a href=\"http://www.statslife.org.uk/events/eventdetail/284/-/-\">Statistical Computing Languages, RSS</a></p>\n",
      "<center>\n",
      "\n",
      "<p class=\"gap05\"></p>\n",
      "<h3>[Neil D. Lawrence](http://staffwww.dcs.shef.ac.uk/people/N.Lawrence), [@lawrennd](http://twitter.com/lawrennd)</h3>\n",
      "<h3>University of Sheffield</h3>\n",
      "<h3> 21st November 2014</h3>\n",
      "\n",
      "<p class=\"gap2\"></p>\n",
      "</center>"
     ]
    },
    {
     "cell_type": "code",
     "collapsed": false,
     "input": [
      "# rerun Fernando's script to load in css\n",
      "%run talktools"
     ],
     "language": "python",
     "metadata": {
      "slideshow": {
       "slide_type": "skip"
      }
     },
     "outputs": [
      {
       "html": [
        "<style>\n",
        "/*\n",
        "   Simple CSS styling for using IPython Notebooks for talks.\n",
        "\n",
        "   Author: Fernando Perez <fernando.perez@berkeley.edu>\n",
        "*/\n",
        "\n",
        ".talk-title\n",
        "{\n",
        "  color: #498AF3;\n",
        "  font-size: 220%;\n",
        "  font-weight:bold;\n",
        "  line-height: 1.2;\n",
        "  margin: 10px 50px 10px;\n",
        "  }\n",
        "\n",
        ".talk-subtitle\n",
        "{\n",
        "  color: #386BBC;\n",
        "  font-size: 150%;\n",
        "  font-weight:bold;\n",
        "  line-height: 1.2;\n",
        "  margin: 20px 50px 20px;\n",
        "  }\n",
        "\n",
        ".slide-header, p.slide-header\n",
        "{\n",
        "  color: #498AF3;\n",
        "  font-size: 180%;\n",
        "  font-weight:bold;\n",
        "  margin: 0px 20px 10px;\n",
        "  page-break-before: always;\n",
        "  text-align: center;\n",
        "  }\n",
        "\n",
        ".rendered_html\n",
        "{\n",
        "  color: #2C5494;\n",
        "  font-family: Ubuntu;\n",
        "  font-size: 170%;\n",
        "  line-height: 1.1;\n",
        "  margin: 0.5em 0;\n",
        "  }\n",
        "\n",
        ".rendered_html h1\n",
        "{\n",
        "  color: #498AF3;\n",
        "  line-height: 1.2;\n",
        "  margin: 0.15em 0em 0.5em;\n",
        "  page-break-before: always;\n",
        "  text-align: center;\n",
        "  }\n",
        "\n",
        "\n",
        ".rendered_html h2\n",
        "{\n",
        "  color: #386BBC;\n",
        "  line-height: 1.2;\n",
        "  margin: 1.1em 0em 0.5em;\n",
        "  }\n",
        "\n",
        ".rendered_html h3\n",
        "{\n",
        "  font-size: 100%;\n",
        "  line-height: 1.2;\n",
        "  margin: 1.1em 0em 0.5em;\n",
        "  }\n",
        "\n",
        ".rendered_html h5\n",
        "{\n",
        "  font-size: 50%;\n",
        "  line-height: 1;\n",
        "  margin: 0.3em 0em 0.3em;\n",
        "  font-weight: bold;\n",
        "  text-align: center;\n",
        "  }\n",
        "\n",
        ".rendered_html h6\n",
        "{\n",
        "  font-size: 50%;\n",
        "  line-height: 1;\n",
        "  margin: 0.3em 0em 0.3em;\n",
        "  font-weight: normal;\n",
        "  text-align: center;\n",
        "  }\n",
        "\n",
        ".rendered_html li\n",
        "{\n",
        "  line-height: 1.8;\n",
        "  }\n",
        "\n",
        ".input_prompt, .CodeMirror-lines, .output_area\n",
        "{\n",
        "  font-family: Consolas;\n",
        "  font-size: 120%;\n",
        "  }\n",
        "\n",
        ".gap-above\n",
        "{\n",
        "  padding-top: 200px;\n",
        "  }\n",
        "\n",
        ".gap01\n",
        "{\n",
        "  padding-top: 10px;\n",
        "  }\n",
        "\n",
        ".gap05\n",
        "{\n",
        "  padding-top: 50px;\n",
        "  }\n",
        "\n",
        ".gap1\n",
        "{\n",
        "  padding-top: 100px;\n",
        "  }\n",
        "\n",
        ".gap2\n",
        "{\n",
        "  padding-top: 200px;\n",
        "  }\n",
        "\n",
        ".gap3\n",
        "{\n",
        "  padding-top: 300px;\n",
        "  }\n",
        "\n",
        ".emph\n",
        "{\n",
        "  color: #386BBC;\n",
        "  }\n",
        "\n",
        ".strike\n",
        "{\n",
        "  text-decoration:line-through;\n",
        "  color: #94B8F3;\n",
        "  }\n",
        "\n",
        ".warn\n",
        "{\n",
        "  color: red;\n",
        "  }\n",
        "\n",
        ".center\n",
        "{\n",
        "  text-align: center;\n",
        "  }\n",
        "\n",
        ".nb_link\n",
        "{\n",
        "    padding-bottom: 0.5em;\n",
        "}\n",
        "\n",
        "</style>\n"
       ],
       "metadata": {},
       "output_type": "display_data",
       "text": [
        "<IPython.core.display.HTML at 0x10b7c0fd0>"
       ]
      }
     ],
     "prompt_number": 1
    },
    {
     "cell_type": "markdown",
     "metadata": {
      "slideshow": {
       "slide_type": "slide"
      }
     },
     "source": [
      "<div class=\"slide-header\">My Python History (Personal)</div>\n",
      "\n",
      "1. Background as an Undergraduate Mechanical Engineer (1991-1994)\n",
      "2. Learnt BBC Basic (1983-1990), Lotus 1-2-3 (1990-1991), Quick Basic & Assembler (1991-1993), MATLAB (1994)\n",
      "3. Worked as Field Engineer on Oil Rigs, tried learning Borland C++ (1994-1996)\n",
      "4. PhD Course: Learnt C and MATLAB (1997-2000).\n",
      "5. Started as a lecturer in Computer Science at Sheffield 2001\n",
      "    1. Felt obliged to learn Java\n",
      "    2. Read Bruce Eckel's book \"Thinking in Java\"\n",
      "    3. All scripts in Book were read using Python.\n"
     ]
    },
    {
     "cell_type": "markdown",
     "metadata": {
      "slideshow": {
       "slide_type": "slide"
      }
     },
     "source": [
      "<div class=\"slide-header\">Why Python?</div>\n",
      "\n",
      "<center>\n",
      "[From Guido van Rossum's blog](http://python-history.blogspot.co.uk/2009/01/introduction-and-overview.html)\n",
      "</center>\n",
      "<p class=\"gap05\"></p>\n",
      "Python is currently one of the most popular dynamic programming languages, along with Perl, Tcl, PHP, and newcomer Ruby. Although it is often viewed as a \"scripting\" language, it is really a general purpose programming language along the lines of Lisp or Smalltalk (as are the others, by the way). Today, Python is used for everything from throw-away scripts to large scalable web servers that provide uninterrupted service 24x7. It is used for GUI and database programming, client- and server-side web programming, and application testing. It is used by scientists writing applications for the world's fastest supercomputers and by children first learning to program."
     ]
    },
    {
     "cell_type": "markdown",
     "metadata": {
      "slideshow": {
       "slide_type": "slide"
      }
     },
     "source": [
      "<div class=\"slide-header\">Ease of Use</div>\n",
      "\n",
      "Python has the style of a scripting language (cf `perl`, `bash`)"
     ]
    },
    {
     "cell_type": "code",
     "collapsed": false,
     "input": [
      "# Open my web page and look for links (modified by code on Guido's blog)\n",
      "import re\n",
      "import urllib\n",
      "\n",
      "regex = re.compile(r'href=\"([^\"]+\\.html)\"')\n",
      "\n",
      "def matcher(url, max=10):\n",
      "    \"Print the first several URL references in a given url.\"\n",
      "    data = urllib.urlopen(url).read()\n",
      "    hits = regex.findall(data)\n",
      "    return hits\n",
      "\n",
      "hits = matcher(\"http://staffwww.dcs.shef.ac.uk/people/N.Lawrence/index.html\")\n",
      "for hit in hits:\n",
      "    print hit"
     ],
     "language": "python",
     "metadata": {},
     "outputs": [
      {
       "output_type": "stream",
       "stream": "stdout",
       "text": [
        "/people/N.Lawrence/inaugural.html\n",
        "/people/N.Lawrence/lectureNotes.html\n",
        "/people/N.Lawrence/research.html\n",
        "http://ml.dcs.shef.ac.uk/sitran/talks.html\n",
        "/people/N.Lawrence/software.html\n",
        "/people/N.Lawrence/miscellany.html\n",
        "/people/N.Lawrence/notes.html\n",
        "./thematic08.html\n",
        "kappenball.html\n",
        "inaugural.html\n",
        "http://ml.dcs.shef.ac.uk/gpss/past_meetings.html\n",
        "./inaugural.html\n",
        "http://maths.dept.shef.ac.uk/maths/staff_info_452.html\n",
        "http://staffwww.dcs.sheffield.ac.uk/people/N.Fusi/index.html\n",
        "http://staffwww.dcs.sheffield.ac.uk/people/A.Damianou/index.html\n",
        "./3PhaseData.html\n",
        "./inaugural.html\n",
        "./com4509_6509_2012.html\n",
        "../A.Cowling/campus_only/teach/com3310.html\n",
        "http://ttic.uchicago.edu/~rurtasun/tutorials/GP_tutorial.html\n",
        "./mlss2012.html\n",
        "http://www.kyb.mpg.de/nc/employee/details/bs.html\n",
        "./matweave.html\n",
        "./thematic.html\n",
        "./licsb.html\n",
        "./com4509_6509_2011.html\n",
        "campus_only/lectureNotes.html\n",
        "./interspeech_tutorial.html\n",
        "http://www.sheffield.ac.uk/dcs/postgrad/resdegrees/newphdhome.html\n",
        "./icml_tutorial.html\n",
        "./thematic08.html\n",
        "./thematic.html\n",
        "http://www.cs.ucl.ac.uk/people/D.Barber.html\n",
        "http://www.well.ox.ac.uk/~mtitsias/publications.html\n",
        "./chi.html\n"
       ]
      }
     ],
     "prompt_number": 2
    },
    {
     "cell_type": "markdown",
     "metadata": {
      "slideshow": {
       "slide_type": "slide"
      }
     },
     "source": [
      "<div class=\"slide-header\">Well Developed Object Orientated Language</div>\n",
      "\n",
      "* Python has the advantage that it was designed in the mid-late 1990s\n",
      "* Not in the mid-late 1970s or 1980s (cf `S`, `MATLAB`)\n",
      "* As a result it has a coherent and functional object system.\n",
      "    * It also has some attributes of *functional programming*.\n",
      "* It is easily extended and allows for operator overloading.\n",
      "* It provides an object system without imposing one (cf `java`)."
     ]
    },
    {
     "cell_type": "code",
     "collapsed": false,
     "input": [
      "class my_data(pd.DataFrame):\n",
      "    def pronounce():\n",
      "        print \"Extending existing objects is easy, this encourages code reuse and good programming practice.\"\n",
      "        \n"
     ],
     "language": "python",
     "metadata": {},
     "outputs": []
    },
    {
     "cell_type": "markdown",
     "metadata": {
      "slideshow": {
       "slide_type": "slide"
      }
     },
     "source": [
      "<div class=\"slide-header\">Development as a Numerical Platform</div>\n",
      "\n",
      "* Around turn of millenium, several researchers were looking for alternatives for `MATLAB`.\n",
      "* Python seemed appropriate because of\n",
      "    * interactive shell, \n",
      "    * friendly scripting nature, \n",
      "    * well supported modern programming language\n",
      "* Some, like me, realised lack of *plotting*, *array types*, *numerical computing*, *fully functional shell* was prohibitive\n",
      "* Others, like Fernando Perez, John Hunter, Travis Oliphant set about adding this funcitonality.\n",
      "* Targeted more at *scientific computing* rather than *statistical computing*.\n"
     ]
    },
    {
     "cell_type": "markdown",
     "metadata": {
      "slideshow": {
       "slide_type": "slide"
      }
     },
     "source": [
      "<div class=\"slide-header\">Recent Additions</div>\n",
      "\n",
      "* More recently Wes McKinney added `pandas`: data anlaysis in python.\n",
      "    * This gives data frame capabilities like in `R`. Proving very popular for data analysis.\n",
      "* The `scipy` stack catpures a range of scientific computing facilities (FFT, linear algebra etc)\n",
      "* `scikit-learn` encodes models from a machine learning perspective.\n",
      "* `statsmodels` encodes models from a statistics perspective.\n",
      "* The Jupyter notebook and the notebook viewer provide an excellent platform for sharing analysis and code. \n",
      "    * For example my group makes its [work available via GitHub and the nbviewer](http://nbviewer.ipython.org/github/SheffieldML/notebook/blob/master/lab_classes/machine_learning/index.ipynb).\n",
      "    * Jupyter is also multilingual and has plug ins for `MATLAB`, `R`, `Julia` ... \n",
      "* As a research group we moved from an entire `MATLAB` code base to Python.\n",
      "    * See blog post about it [here](http://inverseprobability.com/2013/11/25/gpy-moving-from-matlab-to-python/)"
     ]
    },
    {
     "cell_type": "markdown",
     "metadata": {
      "slideshow": {
       "slide_type": "slide"
      }
     },
     "source": [
      "<div class=\"slide-header\">Software Distributions</div>\n",
      "\n",
      "* Code is all BSD licensed (cf `R` and `octave` which are GPL licensed)\n",
      "* Companies deliver optimised python distributions for scientific computing ([Enthought's Canopy](https://www.enthought.com/products/canopy/) and [Continuum Analytics's Anaconda](http://continuum.io/downloads))\n",
      "* I use Canopy, but we have Anaconda installed (free) on the University managed desktop in Sheffield (free). Commercial firms pay a charge for the full version."
     ]
    },
    {
     "cell_type": "markdown",
     "metadata": {
      "slideshow": {
       "slide_type": "slide"
      }
     },
     "source": [
      "<div class=\"slide-header\">Python in Action: Regression</div>\n",
      "\n",
      "* Like most modern languages, python is perhaps more about learning the libraries than the syntax.\n",
      "* Here we use `pandas` to load in data."
     ]
    },
    {
     "cell_type": "code",
     "collapsed": false,
     "input": [
      "import pandas as pd  # first we import the pandas library\n",
      "df = pd.read_csv('../R/data/regression.csv')  # now we read in the data\n",
      "\n",
      "# gender is stored as male/female. We convert it to 0/1\n",
      "df['Gender'] = df['Sex'].map( {'Female': 0, 'Male': 1} ).astype(int)\n",
      "df.describe()"
     ],
     "language": "python",
     "metadata": {},
     "outputs": [
      {
       "html": [
        "<div style=\"max-height:1000px;max-width:1500px;overflow:auto;\">\n",
        "<table border=\"1\" class=\"dataframe\">\n",
        "  <thead>\n",
        "    <tr style=\"text-align: right;\">\n",
        "      <th></th>\n",
        "      <th>OI</th>\n",
        "      <th>Age</th>\n",
        "      <th>Gender</th>\n",
        "    </tr>\n",
        "  </thead>\n",
        "  <tbody>\n",
        "    <tr>\n",
        "      <th>count</th>\n",
        "      <td> 101.00000</td>\n",
        "      <td> 101.000000</td>\n",
        "      <td> 101.000000</td>\n",
        "    </tr>\n",
        "    <tr>\n",
        "      <th>mean</th>\n",
        "      <td>   6.18495</td>\n",
        "      <td>  48.940594</td>\n",
        "      <td>   0.198020</td>\n",
        "    </tr>\n",
        "    <tr>\n",
        "      <th>std</th>\n",
        "      <td>   3.17320</td>\n",
        "      <td>  14.413759</td>\n",
        "      <td>   0.400495</td>\n",
        "    </tr>\n",
        "    <tr>\n",
        "      <th>min</th>\n",
        "      <td>   0.98000</td>\n",
        "      <td> -10.000000</td>\n",
        "      <td>   0.000000</td>\n",
        "    </tr>\n",
        "    <tr>\n",
        "      <th>25%</th>\n",
        "      <td>   3.75000</td>\n",
        "      <td>  39.000000</td>\n",
        "      <td>   0.000000</td>\n",
        "    </tr>\n",
        "    <tr>\n",
        "      <th>50%</th>\n",
        "      <td>   5.65000</td>\n",
        "      <td>  52.000000</td>\n",
        "      <td>   0.000000</td>\n",
        "    </tr>\n",
        "    <tr>\n",
        "      <th>75%</th>\n",
        "      <td>   7.90000</td>\n",
        "      <td>  60.000000</td>\n",
        "      <td>   0.000000</td>\n",
        "    </tr>\n",
        "    <tr>\n",
        "      <th>max</th>\n",
        "      <td>  16.50000</td>\n",
        "      <td>  73.000000</td>\n",
        "      <td>   1.000000</td>\n",
        "    </tr>\n",
        "  </tbody>\n",
        "</table>\n",
        "</div>"
       ],
       "metadata": {},
       "output_type": "pyout",
       "prompt_number": 1,
       "text": [
        "              OI         Age      Gender\n",
        "count  101.00000  101.000000  101.000000\n",
        "mean     6.18495   48.940594    0.198020\n",
        "std      3.17320   14.413759    0.400495\n",
        "min      0.98000  -10.000000    0.000000\n",
        "25%      3.75000   39.000000    0.000000\n",
        "50%      5.65000   52.000000    0.000000\n",
        "75%      7.90000   60.000000    0.000000\n",
        "max     16.50000   73.000000    1.000000"
       ]
      }
     ],
     "prompt_number": 1
    },
    {
     "cell_type": "code",
     "collapsed": false,
     "input": [],
     "language": "python",
     "metadata": {},
     "outputs": []
    },
    {
     "cell_type": "markdown",
     "metadata": {
      "slideshow": {
       "slide_type": "slide"
      }
     },
     "source": [
      "<div class=\"slide-header\">`matplotlib`</div>\n",
      "\n",
      "* Plotting is done using the `matplotlib` library."
     ]
    },
    {
     "cell_type": "code",
     "collapsed": false,
     "input": [
      "# import a plotting library: matplotlib\n",
      "import matplotlib.pyplot as plt \n",
      "# ask for plots to appear in the notebook\n",
      "%matplotlib inline\n",
      "fig, ax = plt.subplots(figsize=(10, 7))\n",
      "ax.scatter(df.Age, df.OI)\n",
      "ax.set_xlabel('Age')\n",
      "ax.set_ylabel('OI')"
     ],
     "language": "python",
     "metadata": {},
     "outputs": [
      {
       "metadata": {},
       "output_type": "pyout",
       "prompt_number": 3,
       "text": [
        "<matplotlib.text.Text at 0x10c79f790>"
       ]
      },
      {
       "metadata": {},
       "output_type": "display_data",
       "png": "[encoded data removed]",
       "text": [
        "<matplotlib.figure.Figure at 0x10c77d210>"
       ]
      }
     ],
     "prompt_number": 3
    },
    {
     "cell_type": "markdown",
     "metadata": {
      "slideshow": {
       "slide_type": "slide"
      }
     },
     "source": [
      "<div class=\"slide-header\">Removing Negative Age Values</div>\n",
      "\n",
      "* The plot allows us to spot the negative age value. Let's remove it.\n",
      "* `pandas` allows for removal by indexing according to 'truth values'.\n",
      "* These can also be used to make different colour plots."
     ]
    },
    {
     "cell_type": "code",
     "collapsed": false,
     "input": [
      "df = df[df['Age']>0]\n",
      "fig, ax = plt.subplots(figsize=(10, 7))\n",
      "for symbol, sex in zip(['bo', 'ro'], ['Male', 'Female']):\n",
      "    lines= ax.semilogy(df.Age[df.Sex==sex], df.OI[df.Sex==sex], symbol,linewidth=3,markersize=10)\n",
      "ax.set_xlabel('Age').set_fontsize(18)\n",
      "ax.set_ylabel('OI').set_fontsize(18)\n",
      "ax.set_title('Plot of age against OI on a log scale').set_fontsize(20)"
     ],
     "language": "python",
     "metadata": {},
     "outputs": [
      {
       "metadata": {},
       "output_type": "display_data",
       "png": "[encoded data removed]",
       "text": [
        "<matplotlib.figure.Figure at 0x10d8bb390>"
       ]
      }
     ],
     "prompt_number": 16
    },
    {
     "cell_type": "markdown",
     "metadata": {
      "slideshow": {
       "slide_type": "slide"
      }
     },
     "source": [
      "<div class=\"slide-header\">Regression Fit</div>\n",
      "First example using `statsmodels`.\n",
      "\n",
      "* Typically a lot of online resources\n",
      "    * Good one on regression is [Connor Johnson's blog post](http://connor-johnson.com/2014/02/18/linear-regression-with-python/)"
     ]
    },
    {
     "cell_type": "code",
     "collapsed": false,
     "input": [
      "import statsmodels.formula.api as sm\n",
      "df['Eins'] = np.ones(( len(df), ))\n",
      "Y = np.log(df.OI)\n",
      "Y.name = 'np.log(OI)'\n",
      "X = df[['Age','Gender', 'Eins']]\n",
      "result = sm.OLS( Y, X ).fit()\n",
      "result.summary()\n",
      "#import statsmodels.graphics.regressionplots as rp\n",
      "#rp.plot_fit(results, 1)"
     ],
     "language": "python",
     "metadata": {},
     "outputs": [
      {
       "html": [
        "<table class=\"simpletable\">\n",
        "<caption>OLS Regression Results</caption>\n",
        "<tr>\n",
        "  <th>Dep. Variable:</th>       <td>np.log(OI)</td>    <th>  R-squared:         </th> <td>   0.262</td>\n",
        "</tr>\n",
        "<tr>\n",
        "  <th>Model:</th>                   <td>OLS</td>       <th>  Adj. R-squared:    </th> <td>   0.247</td>\n",
        "</tr>\n",
        "<tr>\n",
        "  <th>Method:</th>             <td>Least Squares</td>  <th>  F-statistic:       </th> <td>   17.23</td>\n",
        "</tr>\n",
        "<tr>\n",
        "  <th>Date:</th>             <td>Fri, 21 Nov 2014</td> <th>  Prob (F-statistic):</th> <td>3.96e-07</td>\n",
        "</tr>\n",
        "<tr>\n",
        "  <th>Time:</th>                 <td>08:25:57</td>     <th>  Log-Likelihood:    </th> <td> -61.671</td>\n",
        "</tr>\n",
        "<tr>\n",
        "  <th>No. Observations:</th>      <td>   100</td>      <th>  AIC:               </th> <td>   129.3</td>\n",
        "</tr>\n",
        "<tr>\n",
        "  <th>Df Residuals:</th>          <td>    97</td>      <th>  BIC:               </th> <td>   137.2</td>\n",
        "</tr>\n",
        "<tr>\n",
        "  <th>Df Model:</th>              <td>     2</td>      <th>                     </th>     <td> </td>   \n",
        "</tr>\n",
        "<tr>\n",
        "  <th>Covariance Type:</th>      <td>nonrobust</td>    <th>                     </th>     <td> </td>   \n",
        "</tr>\n",
        "</table>\n",
        "<table class=\"simpletable\">\n",
        "<tr>\n",
        "     <td></td>       <th>coef</th>     <th>std err</th>      <th>t</th>      <th>P>|t|</th> <th>[95.0% Conf. Int.]</th> \n",
        "</tr>\n",
        "<tr>\n",
        "  <th>Age</th>    <td>    0.0162</td> <td>    0.004</td> <td>    4.603</td> <td> 0.000</td> <td>    0.009     0.023</td>\n",
        "</tr>\n",
        "<tr>\n",
        "  <th>Gender</th> <td>    0.3189</td> <td>    0.116</td> <td>    2.757</td> <td> 0.007</td> <td>    0.089     0.548</td>\n",
        "</tr>\n",
        "<tr>\n",
        "  <th>Eins</th>   <td>    0.8292</td> <td>    0.178</td> <td>    4.666</td> <td> 0.000</td> <td>    0.477     1.182</td>\n",
        "</tr>\n",
        "</table>\n",
        "<table class=\"simpletable\">\n",
        "<tr>\n",
        "  <th>Omnibus:</th>       <td> 3.016</td> <th>  Durbin-Watson:     </th> <td>   2.007</td>\n",
        "</tr>\n",
        "<tr>\n",
        "  <th>Prob(Omnibus):</th> <td> 0.221</td> <th>  Jarque-Bera (JB):  </th> <td>   2.772</td>\n",
        "</tr>\n",
        "<tr>\n",
        "  <th>Skew:</th>          <td>-0.408</td> <th>  Prob(JB):          </th> <td>   0.250</td>\n",
        "</tr>\n",
        "<tr>\n",
        "  <th>Kurtosis:</th>      <td> 2.975</td> <th>  Cond. No.          </th> <td>    200.</td>\n",
        "</tr>\n",
        "</table>"
       ],
       "metadata": {},
       "output_type": "pyout",
       "prompt_number": 40,
       "text": [
        "<class 'statsmodels.iolib.summary.Summary'>\n",
        "\"\"\"\n",
        "                            OLS Regression Results                            \n",
        "==============================================================================\n",
        "Dep. Variable:             np.log(OI)   R-squared:                       0.262\n",
        "Model:                            OLS   Adj. R-squared:                  0.247\n",
        "Method:                 Least Squares   F-statistic:                     17.23\n",
        "Date:                Fri, 21 Nov 2014   Prob (F-statistic):           3.96e-07\n",
        "Time:                        08:25:57   Log-Likelihood:                -61.671\n",
        "No. Observations:                 100   AIC:                             129.3\n",
        "Df Residuals:                      97   BIC:                             137.2\n",
        "Df Model:                           2                                         \n",
        "Covariance Type:            nonrobust                                         \n",
        "==============================================================================\n",
        "                 coef    std err          t      P>|t|      [95.0% Conf. Int.]\n",
        "------------------------------------------------------------------------------\n",
        "Age            0.0162      0.004      4.603      0.000         0.009     0.023\n",
        "Gender         0.3189      0.116      2.757      0.007         0.089     0.548\n",
        "Eins           0.8292      0.178      4.666      0.000         0.477     1.182\n",
        "==============================================================================\n",
        "Omnibus:                        3.016   Durbin-Watson:                   2.007\n",
        "Prob(Omnibus):                  0.221   Jarque-Bera (JB):                2.772\n",
        "Skew:                          -0.408   Prob(JB):                        0.250\n",
        "Kurtosis:                       2.975   Cond. No.                         200.\n",
        "==============================================================================\n",
        "\n",
        "Warnings:\n",
        "[1] Standard Errors assume that the covariance matrix of the errors is correctly specified.\n",
        "\"\"\""
       ]
      }
     ],
     "prompt_number": 40
    },
    {
     "cell_type": "markdown",
     "metadata": {
      "slideshow": {
       "slide_type": "slide"
      }
     },
     "source": [
      "<div class=\"slide-header\">Load in R Datasets</div>\n",
      "\n",
      "`statsmodels` seems designed for those with experience of statistics and `R`."
     ]
    },
    {
     "cell_type": "code",
     "collapsed": false,
     "input": [
      "import numpy as np\n",
      "import statsmodels.api as sm\n",
      "import statsmodels.formula.api as smf\n",
      "\n",
      "# Fit regression model (using the natural log for the dependent variable)\n",
      "results = smf.ols('np.log(OI)  ~ Age + Sex', data=df).fit()\n",
      "\n",
      "# Inspect the results\n",
      "results.summary()\n"
     ],
     "language": "python",
     "metadata": {},
     "outputs": [
      {
       "html": [
        "<table class=\"simpletable\">\n",
        "<caption>OLS Regression Results</caption>\n",
        "<tr>\n",
        "  <th>Dep. Variable:</th>       <td>np.log(OI)</td>    <th>  R-squared:         </th> <td>   0.262</td>\n",
        "</tr>\n",
        "<tr>\n",
        "  <th>Model:</th>                   <td>OLS</td>       <th>  Adj. R-squared:    </th> <td>   0.247</td>\n",
        "</tr>\n",
        "<tr>\n",
        "  <th>Method:</th>             <td>Least Squares</td>  <th>  F-statistic:       </th> <td>   17.23</td>\n",
        "</tr>\n",
        "<tr>\n",
        "  <th>Date:</th>             <td>Fri, 21 Nov 2014</td> <th>  Prob (F-statistic):</th> <td>3.96e-07</td>\n",
        "</tr>\n",
        "<tr>\n",
        "  <th>Time:</th>                 <td>10:59:10</td>     <th>  Log-Likelihood:    </th> <td> -61.671</td>\n",
        "</tr>\n",
        "<tr>\n",
        "  <th>No. Observations:</th>      <td>   100</td>      <th>  AIC:               </th> <td>   129.3</td>\n",
        "</tr>\n",
        "<tr>\n",
        "  <th>Df Residuals:</th>          <td>    97</td>      <th>  BIC:               </th> <td>   137.2</td>\n",
        "</tr>\n",
        "<tr>\n",
        "  <th>Df Model:</th>              <td>     2</td>      <th>                     </th>     <td> </td>   \n",
        "</tr>\n",
        "<tr>\n",
        "  <th>Covariance Type:</th>      <td>nonrobust</td>    <th>                     </th>     <td> </td>   \n",
        "</tr>\n",
        "</table>\n",
        "<table class=\"simpletable\">\n",
        "<tr>\n",
        "       <td></td>          <th>coef</th>     <th>std err</th>      <th>t</th>      <th>P>|t|</th> <th>[95.0% Conf. Int.]</th> \n",
        "</tr>\n",
        "<tr>\n",
        "  <th>Intercept</th>   <td>    0.8292</td> <td>    0.178</td> <td>    4.666</td> <td> 0.000</td> <td>    0.477     1.182</td>\n",
        "</tr>\n",
        "<tr>\n",
        "  <th>Sex[T.Male]</th> <td>    0.3189</td> <td>    0.116</td> <td>    2.757</td> <td> 0.007</td> <td>    0.089     0.548</td>\n",
        "</tr>\n",
        "<tr>\n",
        "  <th>Age</th>         <td>    0.0162</td> <td>    0.004</td> <td>    4.603</td> <td> 0.000</td> <td>    0.009     0.023</td>\n",
        "</tr>\n",
        "</table>\n",
        "<table class=\"simpletable\">\n",
        "<tr>\n",
        "  <th>Omnibus:</th>       <td> 3.016</td> <th>  Durbin-Watson:     </th> <td>   2.007</td>\n",
        "</tr>\n",
        "<tr>\n",
        "  <th>Prob(Omnibus):</th> <td> 0.221</td> <th>  Jarque-Bera (JB):  </th> <td>   2.772</td>\n",
        "</tr>\n",
        "<tr>\n",
        "  <th>Skew:</th>          <td>-0.408</td> <th>  Prob(JB):          </th> <td>   0.250</td>\n",
        "</tr>\n",
        "<tr>\n",
        "  <th>Kurtosis:</th>      <td> 2.975</td> <th>  Cond. No.          </th> <td>    200.</td>\n",
        "</tr>\n",
        "</table>"
       ],
       "metadata": {},
       "output_type": "pyout",
       "prompt_number": 18,
       "text": [
        "<class 'statsmodels.iolib.summary.Summary'>\n",
        "\"\"\"\n",
        "                            OLS Regression Results                            \n",
        "==============================================================================\n",
        "Dep. Variable:             np.log(OI)   R-squared:                       0.262\n",
        "Model:                            OLS   Adj. R-squared:                  0.247\n",
        "Method:                 Least Squares   F-statistic:                     17.23\n",
        "Date:                Fri, 21 Nov 2014   Prob (F-statistic):           3.96e-07\n",
        "Time:                        10:59:10   Log-Likelihood:                -61.671\n",
        "No. Observations:                 100   AIC:                             129.3\n",
        "Df Residuals:                      97   BIC:                             137.2\n",
        "Df Model:                           2                                         \n",
        "Covariance Type:            nonrobust                                         \n",
        "===============================================================================\n",
        "                  coef    std err          t      P>|t|      [95.0% Conf. Int.]\n",
        "-------------------------------------------------------------------------------\n",
        "Intercept       0.8292      0.178      4.666      0.000         0.477     1.182\n",
        "Sex[T.Male]     0.3189      0.116      2.757      0.007         0.089     0.548\n",
        "Age             0.0162      0.004      4.603      0.000         0.009     0.023\n",
        "==============================================================================\n",
        "Omnibus:                        3.016   Durbin-Watson:                   2.007\n",
        "Prob(Omnibus):                  0.221   Jarque-Bera (JB):                2.772\n",
        "Skew:                          -0.408   Prob(JB):                        0.250\n",
        "Kurtosis:                       2.975   Cond. No.                         200.\n",
        "==============================================================================\n",
        "\n",
        "Warnings:\n",
        "[1] Standard Errors assume that the covariance matrix of the errors is correctly specified.\n",
        "\"\"\""
       ]
      }
     ],
     "prompt_number": 18
    },
    {
     "cell_type": "markdown",
     "metadata": {},
     "source": [
      "* There is even provision for loading in `R` datasets."
     ]
    },
    {
     "cell_type": "code",
     "collapsed": false,
     "input": [
      "import numpy as np\n",
      "import statsmodels.api as sm\n",
      "import statsmodels.formula.api as smf\n",
      "\n",
      "# Load data\n",
      "dat = sm.datasets.get_rdataset(\"Guerry\", \"HistData\").data\n",
      "\n",
      "# Fit regression model (using the natural log of one of the regressors)\n",
      "results = smf.ols('Lottery ~ Literacy + np.log(Pop1831)', data=dat).fit()\n",
      "\n",
      "# Inspect the results\n",
      "results.summary()"
     ],
     "language": "python",
     "metadata": {},
     "outputs": [
      {
       "html": [
        "<table class=\"simpletable\">\n",
        "<caption>OLS Regression Results</caption>\n",
        "<tr>\n",
        "  <th>Dep. Variable:</th>         <td>Lottery</td>     <th>  R-squared:         </th> <td>   0.348</td>\n",
        "</tr>\n",
        "<tr>\n",
        "  <th>Model:</th>                   <td>OLS</td>       <th>  Adj. R-squared:    </th> <td>   0.333</td>\n",
        "</tr>\n",
        "<tr>\n",
        "  <th>Method:</th>             <td>Least Squares</td>  <th>  F-statistic:       </th> <td>   22.20</td>\n",
        "</tr>\n",
        "<tr>\n",
        "  <th>Date:</th>             <td>Fri, 21 Nov 2014</td> <th>  Prob (F-statistic):</th> <td>1.90e-08</td>\n",
        "</tr>\n",
        "<tr>\n",
        "  <th>Time:</th>                 <td>11:06:33</td>     <th>  Log-Likelihood:    </th> <td> -379.82</td>\n",
        "</tr>\n",
        "<tr>\n",
        "  <th>No. Observations:</th>      <td>    86</td>      <th>  AIC:               </th> <td>   765.6</td>\n",
        "</tr>\n",
        "<tr>\n",
        "  <th>Df Residuals:</th>          <td>    83</td>      <th>  BIC:               </th> <td>   773.0</td>\n",
        "</tr>\n",
        "<tr>\n",
        "  <th>Df Model:</th>              <td>     2</td>      <th>                     </th>     <td> </td>   \n",
        "</tr>\n",
        "<tr>\n",
        "  <th>Covariance Type:</th>      <td>nonrobust</td>    <th>                     </th>     <td> </td>   \n",
        "</tr>\n",
        "</table>\n",
        "<table class=\"simpletable\">\n",
        "<tr>\n",
        "         <td></td>            <th>coef</th>     <th>std err</th>      <th>t</th>      <th>P>|t|</th> <th>[95.0% Conf. Int.]</th> \n",
        "</tr>\n",
        "<tr>\n",
        "  <th>Intercept</th>       <td>  246.4341</td> <td>   35.233</td> <td>    6.995</td> <td> 0.000</td> <td>  176.358   316.510</td>\n",
        "</tr>\n",
        "<tr>\n",
        "  <th>Literacy</th>        <td>   -0.4889</td> <td>    0.128</td> <td>   -3.832</td> <td> 0.000</td> <td>   -0.743    -0.235</td>\n",
        "</tr>\n",
        "<tr>\n",
        "  <th>np.log(Pop1831)</th> <td>  -31.3114</td> <td>    5.977</td> <td>   -5.239</td> <td> 0.000</td> <td>  -43.199   -19.424</td>\n",
        "</tr>\n",
        "</table>\n",
        "<table class=\"simpletable\">\n",
        "<tr>\n",
        "  <th>Omnibus:</th>       <td> 3.713</td> <th>  Durbin-Watson:     </th> <td>   2.019</td>\n",
        "</tr>\n",
        "<tr>\n",
        "  <th>Prob(Omnibus):</th> <td> 0.156</td> <th>  Jarque-Bera (JB):  </th> <td>   3.394</td>\n",
        "</tr>\n",
        "<tr>\n",
        "  <th>Skew:</th>          <td>-0.487</td> <th>  Prob(JB):          </th> <td>   0.183</td>\n",
        "</tr>\n",
        "<tr>\n",
        "  <th>Kurtosis:</th>      <td> 3.003</td> <th>  Cond. No.          </th> <td>    702.</td>\n",
        "</tr>\n",
        "</table>"
       ],
       "metadata": {},
       "output_type": "pyout",
       "prompt_number": 26,
       "text": [
        "<class 'statsmodels.iolib.summary.Summary'>\n",
        "\"\"\"\n",
        "                            OLS Regression Results                            \n",
        "==============================================================================\n",
        "Dep. Variable:                Lottery   R-squared:                       0.348\n",
        "Model:                            OLS   Adj. R-squared:                  0.333\n",
        "Method:                 Least Squares   F-statistic:                     22.20\n",
        "Date:                Fri, 21 Nov 2014   Prob (F-statistic):           1.90e-08\n",
        "Time:                        11:06:33   Log-Likelihood:                -379.82\n",
        "No. Observations:                  86   AIC:                             765.6\n",
        "Df Residuals:                      83   BIC:                             773.0\n",
        "Df Model:                           2                                         \n",
        "Covariance Type:            nonrobust                                         \n",
        "===================================================================================\n",
        "                      coef    std err          t      P>|t|      [95.0% Conf. Int.]\n",
        "-----------------------------------------------------------------------------------\n",
        "Intercept         246.4341     35.233      6.995      0.000       176.358   316.510\n",
        "Literacy           -0.4889      0.128     -3.832      0.000        -0.743    -0.235\n",
        "np.log(Pop1831)   -31.3114      5.977     -5.239      0.000       -43.199   -19.424\n",
        "==============================================================================\n",
        "Omnibus:                        3.713   Durbin-Watson:                   2.019\n",
        "Prob(Omnibus):                  0.156   Jarque-Bera (JB):                3.394\n",
        "Skew:                          -0.487   Prob(JB):                        0.183\n",
        "Kurtosis:                       3.003   Cond. No.                         702.\n",
        "==============================================================================\n",
        "\n",
        "Warnings:\n",
        "[1] Standard Errors assume that the covariance matrix of the errors is correctly specified.\n",
        "\"\"\""
       ]
      }
     ],
     "prompt_number": 26
    },
    {
     "cell_type": "code",
     "collapsed": false,
     "input": [
      "<div class=\"slide-header\">`sklearn`</div>\n",
      "\n",
      "* In machine learning the `scikit-learn` would be more familiar."
     ],
     "language": "python",
     "metadata": {
      "slideshow": {
       "slide_type": "slide"
      }
     },
     "outputs": []
    },
    {
     "cell_type": "code",
     "collapsed": false,
     "input": [
      "from sklearn.linear_model import LinearRegression as regression\n",
      "import numpy as np\n"
     ],
     "language": "python",
     "metadata": {},
     "outputs": [
      {
       "metadata": {},
       "output_type": "pyout",
       "prompt_number": 38,
       "text": [
        "0     65\n",
        "1     40\n",
        "2     52\n",
        "3     45\n",
        "4     72\n",
        "5     64\n",
        "6     67\n",
        "7     66\n",
        "8     47\n",
        "9     44\n",
        "10    46\n",
        "11    52\n",
        "12    55\n",
        "13    64\n",
        "14    62\n",
        "...\n",
        "86     67\n",
        "87     53\n",
        "88     64\n",
        "89     48\n",
        "90     62\n",
        "91     32\n",
        "92     51\n",
        "93     46\n",
        "94     56\n",
        "95     67\n",
        "96     57\n",
        "97     56\n",
        "98     53\n",
        "99     56\n",
        "100    66\n",
        "Name: Age, Length: 101, dtype: int64"
       ]
      }
     ],
     "prompt_number": 38
    },
    {
     "cell_type": "markdown",
     "metadata": {
      "slideshow": {
       "slide_type": "slide"
      }
     },
     "source": [
      "<div class=\"slide-header\">My Own Preference</div>\n",
      "\n",
      "* When teaching my own preference is to derive the maximum likelihood solution and have students implement it.\n",
      "* Solve\n",
      "$$\n",
      "\\mathbf{X}^\\top \\mathbf{X} \\boldsymbol{\\beta} = \\mathbf{X}^\\top \\mathbf{y}\n",
      "$$\n",
      "for $\\boldsymbol{\\beta}$."
     ]
    },
    {
     "cell_type": "code",
     "collapsed": false,
     "input": [
      "import numpy as np\n",
      "beta = np.linalg.solve(np.dot(X.T, X), np.dot(X.T, y)) \n",
      "beta = pd.DataSeries(beta, index=X.columns)"
     ],
     "language": "python",
     "metadata": {},
     "outputs": [
      {
       "ename": "NameError",
       "evalue": "name 'X' is not defined",
       "output_type": "pyerr",
       "traceback": [
        "\u001b[0;31m---------------------------------------------------------------------------\u001b[0m\n\u001b[0;31mNameError\u001b[0m                                 Traceback (most recent call last)",
        "\u001b[0;32m<ipython-input-28-a7a2edbeea37>\u001b[0m in \u001b[0;36m<module>\u001b[0;34m()\u001b[0m\n\u001b[1;32m      1\u001b[0m \u001b[0;32mimport\u001b[0m \u001b[0mnumpy\u001b[0m \u001b[0;32mas\u001b[0m \u001b[0mnp\u001b[0m\u001b[0;34m\u001b[0m\u001b[0m\n\u001b[0;32m----> 2\u001b[0;31m \u001b[0mbeta\u001b[0m \u001b[0;34m=\u001b[0m \u001b[0mnp\u001b[0m\u001b[0;34m.\u001b[0m\u001b[0mlinalg\u001b[0m\u001b[0;34m.\u001b[0m\u001b[0msolve\u001b[0m\u001b[0;34m(\u001b[0m\u001b[0mnp\u001b[0m\u001b[0;34m.\u001b[0m\u001b[0mdot\u001b[0m\u001b[0;34m(\u001b[0m\u001b[0mX\u001b[0m\u001b[0;34m.\u001b[0m\u001b[0mT\u001b[0m\u001b[0;34m,\u001b[0m \u001b[0mX\u001b[0m\u001b[0;34m)\u001b[0m\u001b[0;34m,\u001b[0m \u001b[0mnp\u001b[0m\u001b[0;34m.\u001b[0m\u001b[0mdot\u001b[0m\u001b[0;34m(\u001b[0m\u001b[0mX\u001b[0m\u001b[0;34m.\u001b[0m\u001b[0mT\u001b[0m\u001b[0;34m,\u001b[0m \u001b[0my\u001b[0m\u001b[0;34m)\u001b[0m\u001b[0;34m)\u001b[0m\u001b[0;34m\u001b[0m\u001b[0m\n\u001b[0m\u001b[1;32m      3\u001b[0m \u001b[0mbeta\u001b[0m \u001b[0;34m=\u001b[0m \u001b[0mpd\u001b[0m\u001b[0;34m.\u001b[0m\u001b[0mDataSeries\u001b[0m\u001b[0;34m(\u001b[0m\u001b[0mbeta\u001b[0m\u001b[0;34m,\u001b[0m \u001b[0mindex\u001b[0m\u001b[0;34m=\u001b[0m\u001b[0mX\u001b[0m\u001b[0;34m.\u001b[0m\u001b[0mcolumns\u001b[0m\u001b[0;34m)\u001b[0m\u001b[0;34m\u001b[0m\u001b[0m\n",
        "\u001b[0;31mNameError\u001b[0m: name 'X' is not defined"
       ]
      }
     ],
     "prompt_number": 28
    },
    {
     "cell_type": "markdown",
     "metadata": {
      "slideshow": {
       "slide_type": "slide"
      }
     },
     "source": [
      "\n",
      "# `IPython.parallel`\n",
      "\n",
      "* Cluster: one *controller* (master), N dynamic *engines* (slaves). $N \\lesssim 300$.\n",
      "* Accessed by users via dynamic proxy: `parallel.Client`.\n",
      "* A `Client` creates as many *views* as desired by user:\n",
      "  - `DirectView`: SPMD.\n",
      "  - `LoadBalancedView`: automatic task distribution.\n",
      "  - Blocking and async APIs.\n",
      "  - Direct `put` and `get` (and `scatter`/`gather`).\n",
      "  - Views can span arbitrary subgroups of the cluster.\n",
      "  - Multiple views coexist simultaneously.\n",
      "* One-sided communication model.\n",
      "* Happy coexistence with MPI.\n",
      "* All comms with [\u00d8MQ](http://www.zeromq.org), in C++, no GIL, zero-copy when possible."
     ]
    },
    {
     "cell_type": "markdown",
     "metadata": {
      "slideshow": {
       "slide_type": "slide"
      }
     },
     "source": [
      "# Lessons in building a community\n",
      "\n",
      "## A delicate balancing act\n",
      "\n",
      "* Individual leadership and sense of ownership vs turf wars.\n",
      "* Clear project vision vs. broad engagement of a community with many ideas.\n",
      "\n",
      "## Disagreement: highly reactive fuel\n",
      "\n",
      "* Can power creativity or spectacularly blow up.\n",
      "* Patience, trust, generosity and respect.\n",
      "* Make calls and live with the mistakes without recrimination.\n",
      "\n",
      "## The rules apply to everyone, starting with me\n",
      "\n",
      "* Even if they slow me down!\n",
      "\n"
     ]
    }
   ],
   "metadata": {}
  }
 ]
}